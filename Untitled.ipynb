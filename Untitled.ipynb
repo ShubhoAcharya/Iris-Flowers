{
 "cells": [
  {
   "cell_type": "code",
   "execution_count": 1,
   "id": "ced8cda5",
   "metadata": {
    "scrolled": true
   },
   "outputs": [
    {
     "name": "stdout",
     "output_type": "stream",
     "text": [
      "Accuracy: 0.96\n",
      "Predicted Flower Species:\n",
      "Sample 1: Iris-setosa\n",
      "Sample 2: Iris-setosa\n",
      "Sample 3: Iris-setosa\n",
      "Sample 4: Iris-setosa\n",
      "Sample 5: Iris-setosa\n",
      "Sample 6: Iris-setosa\n"
     ]
    },
    {
     "name": "stderr",
     "output_type": "stream",
     "text": [
      "D:\\anaconda3\\Lib\\site-packages\\sklearn\\base.py:439: UserWarning: X does not have valid feature names, but StandardScaler was fitted with feature names\n",
      "  warnings.warn(\n"
     ]
    }
   ],
   "source": [
    "import pandas as pd\n",
    "from sklearn.model_selection import train_test_split\n",
    "from sklearn.preprocessing import StandardScaler\n",
    "from sklearn.neighbors import KNeighborsClassifier\n",
    "from sklearn.metrics import accuracy_score\n",
    "\n",
    "# Load the CSV file containing the sample data\n",
    "columns = ['sepal_length', 'sepal_width', 'petal_length', 'petal_width', 'species']\n",
    "iris_data = pd.read_csv('C:/Users/LENOVO/Desktop/Iris/iris_dataset.csv', names=columns)\n",
    "\n",
    "# Separate features (sepal and petal dimensions) and target (flower species)\n",
    "X = iris_data[['sepal_length', 'sepal_width', 'petal_length', 'petal_width']]\n",
    "y = iris_data['species']\n",
    "\n",
    "# Split the dataset into training and testing sets (80% training, 20% testing)\n",
    "X_train, X_test, y_train, y_test = train_test_split(X, y, test_size=0.5, random_state=42)\n",
    "\n",
    "# Standardize the features to have mean=0 and variance=1\n",
    "scaler = StandardScaler()\n",
    "X_train = scaler.fit_transform(X_train)\n",
    "X_test = scaler.transform(X_test)\n",
    "\n",
    "# Build the k-nearest neighbors (KNN) classifier\n",
    "knn = KNeighborsClassifier(n_neighbors=3)  # You can try different values for 'n_neighbors'\n",
    "knn.fit(X_train, y_train)\n",
    "\n",
    "# Make predictions on the test set\n",
    "y_pred = knn.predict(X_test)\n",
    "\n",
    "# Evaluate the model's accuracy\n",
    "accuracy = accuracy_score(y_test, y_pred)\n",
    "print(f\"Accuracy: {accuracy:.2f}\")\n",
    "\n",
    "# Predict the flower species for the sample data in the CSV file\n",
    "sample_data = [[5.1, 3.5, 1.4, 0.2], [4.9, 3.0, 1.4, 0.2], [4.7, 3.2, 1.3, 0.2], [4.6, 3.1, 1.5, 0.2], [5.0, 3.6, 1.4, 0.2], [5.4, 3.9, 1.7, 0.4]]\n",
    "sample_data = scaler.transform(sample_data)\n",
    "predicted_flowers = knn.predict(sample_data)\n",
    "\n",
    "# Print the predicted flower species for each sample in the CSV file\n",
    "print(\"Predicted Flower Species:\")\n",
    "for i, predicted_flower in enumerate(predicted_flowers):\n",
    "    print(f\"Sample {i+1}: {predicted_flower}\")\n"
   ]
  },
  {
   "cell_type": "code",
   "execution_count": null,
   "id": "9af57ebb",
   "metadata": {},
   "outputs": [],
   "source": []
  }
 ],
 "metadata": {
  "kernelspec": {
   "display_name": "Python 3 (ipykernel)",
   "language": "python",
   "name": "python3"
  },
  "language_info": {
   "codemirror_mode": {
    "name": "ipython",
    "version": 3
   },
   "file_extension": ".py",
   "mimetype": "text/x-python",
   "name": "python",
   "nbconvert_exporter": "python",
   "pygments_lexer": "ipython3",
   "version": "3.11.3"
  }
 },
 "nbformat": 4,
 "nbformat_minor": 5
}
